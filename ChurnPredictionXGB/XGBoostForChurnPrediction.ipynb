{
 "cells": [
  {
   "metadata": {},
   "cell_type": "markdown",
   "source": [
    "# This is a Jupyter Notebook for a Customer Churn Prediction Model Using XGBoost Classification\n",
    "\n",
    "The dataset used is:\n",
    "https://github.com/navdeep-G/customer-churn/blob/master/data/TelcoChurn.csv\n",
    "The model is trained using XGBoost and is tuned using hyperparameter tuning using GridSearchCV"
   ],
   "id": "8a77807f92f26ee"
  },
  {
   "metadata": {
    "ExecuteTime": {
     "end_time": "2025-07-30T12:51:13.075213Z",
     "start_time": "2025-07-30T12:51:12.892420Z"
    }
   },
   "cell_type": "code",
   "source": [
    "#Import libraries\n",
    "import pandas as pd\n",
    "import numpy as np\n",
    "import seaborn as sns\n",
    "import matplotlib.pyplot as plt\n",
    "from sklearn.model_selection import train_test_split\n",
    "from sklearn.model_selection import GridSearchCV\n",
    "from sklearn.preprocessing import LabelEncoder, StandardScaler\n",
    "from sklearn.linear_model import LogisticRegression\n",
    "from xgboost import XGBClassifier\n",
    "from sklearn.metrics import classification_report, confusion_matrix, accuracy_score, roc_auc_score, roc_curve\n",
    "from sklearn.utils import compute_class_weight"
   ],
   "id": "fbc121e30a2defb3",
   "outputs": [],
   "execution_count": 1
  },
  {
   "metadata": {
    "ExecuteTime": {
     "end_time": "2025-07-30T12:51:13.261480Z",
     "start_time": "2025-07-30T12:51:13.220926Z"
    }
   },
   "cell_type": "code",
   "source": [
    "#Load data\n",
    "data = pd.read_csv(\"TelcoChurn.csv\")\n",
    "data.head()"
   ],
   "id": "92c5a654cd37e3f0",
   "outputs": [
    {
     "data": {
      "text/plain": [
       "   customerID  gender  SeniorCitizen Partner Dependents  tenure PhoneService  \\\n",
       "0  7590-VHVEG  Female              0     Yes         No       1           No   \n",
       "1  5575-GNVDE    Male              0      No         No      34          Yes   \n",
       "2  3668-QPYBK    Male              0      No         No       2          Yes   \n",
       "3  7795-CFOCW    Male              0      No         No      45           No   \n",
       "4  9237-HQITU  Female              0      No         No       2          Yes   \n",
       "\n",
       "      MultipleLines InternetService OnlineSecurity  ... DeviceProtection  \\\n",
       "0  No phone service             DSL             No  ...               No   \n",
       "1                No             DSL            Yes  ...              Yes   \n",
       "2                No             DSL            Yes  ...               No   \n",
       "3  No phone service             DSL            Yes  ...              Yes   \n",
       "4                No     Fiber optic             No  ...               No   \n",
       "\n",
       "  TechSupport StreamingTV StreamingMovies        Contract PaperlessBilling  \\\n",
       "0          No          No              No  Month-to-month              Yes   \n",
       "1          No          No              No        One year               No   \n",
       "2          No          No              No  Month-to-month              Yes   \n",
       "3         Yes          No              No        One year               No   \n",
       "4          No          No              No  Month-to-month              Yes   \n",
       "\n",
       "               PaymentMethod MonthlyCharges  TotalCharges Churn  \n",
       "0           Electronic check          29.85         29.85    No  \n",
       "1               Mailed check          56.95        1889.5    No  \n",
       "2               Mailed check          53.85        108.15   Yes  \n",
       "3  Bank transfer (automatic)          42.30       1840.75    No  \n",
       "4           Electronic check          70.70        151.65   Yes  \n",
       "\n",
       "[5 rows x 21 columns]"
      ],
      "text/html": [
       "<div>\n",
       "<style scoped>\n",
       "    .dataframe tbody tr th:only-of-type {\n",
       "        vertical-align: middle;\n",
       "    }\n",
       "\n",
       "    .dataframe tbody tr th {\n",
       "        vertical-align: top;\n",
       "    }\n",
       "\n",
       "    .dataframe thead th {\n",
       "        text-align: right;\n",
       "    }\n",
       "</style>\n",
       "<table border=\"1\" class=\"dataframe\">\n",
       "  <thead>\n",
       "    <tr style=\"text-align: right;\">\n",
       "      <th></th>\n",
       "      <th>customerID</th>\n",
       "      <th>gender</th>\n",
       "      <th>SeniorCitizen</th>\n",
       "      <th>Partner</th>\n",
       "      <th>Dependents</th>\n",
       "      <th>tenure</th>\n",
       "      <th>PhoneService</th>\n",
       "      <th>MultipleLines</th>\n",
       "      <th>InternetService</th>\n",
       "      <th>OnlineSecurity</th>\n",
       "      <th>...</th>\n",
       "      <th>DeviceProtection</th>\n",
       "      <th>TechSupport</th>\n",
       "      <th>StreamingTV</th>\n",
       "      <th>StreamingMovies</th>\n",
       "      <th>Contract</th>\n",
       "      <th>PaperlessBilling</th>\n",
       "      <th>PaymentMethod</th>\n",
       "      <th>MonthlyCharges</th>\n",
       "      <th>TotalCharges</th>\n",
       "      <th>Churn</th>\n",
       "    </tr>\n",
       "  </thead>\n",
       "  <tbody>\n",
       "    <tr>\n",
       "      <th>0</th>\n",
       "      <td>7590-VHVEG</td>\n",
       "      <td>Female</td>\n",
       "      <td>0</td>\n",
       "      <td>Yes</td>\n",
       "      <td>No</td>\n",
       "      <td>1</td>\n",
       "      <td>No</td>\n",
       "      <td>No phone service</td>\n",
       "      <td>DSL</td>\n",
       "      <td>No</td>\n",
       "      <td>...</td>\n",
       "      <td>No</td>\n",
       "      <td>No</td>\n",
       "      <td>No</td>\n",
       "      <td>No</td>\n",
       "      <td>Month-to-month</td>\n",
       "      <td>Yes</td>\n",
       "      <td>Electronic check</td>\n",
       "      <td>29.85</td>\n",
       "      <td>29.85</td>\n",
       "      <td>No</td>\n",
       "    </tr>\n",
       "    <tr>\n",
       "      <th>1</th>\n",
       "      <td>5575-GNVDE</td>\n",
       "      <td>Male</td>\n",
       "      <td>0</td>\n",
       "      <td>No</td>\n",
       "      <td>No</td>\n",
       "      <td>34</td>\n",
       "      <td>Yes</td>\n",
       "      <td>No</td>\n",
       "      <td>DSL</td>\n",
       "      <td>Yes</td>\n",
       "      <td>...</td>\n",
       "      <td>Yes</td>\n",
       "      <td>No</td>\n",
       "      <td>No</td>\n",
       "      <td>No</td>\n",
       "      <td>One year</td>\n",
       "      <td>No</td>\n",
       "      <td>Mailed check</td>\n",
       "      <td>56.95</td>\n",
       "      <td>1889.5</td>\n",
       "      <td>No</td>\n",
       "    </tr>\n",
       "    <tr>\n",
       "      <th>2</th>\n",
       "      <td>3668-QPYBK</td>\n",
       "      <td>Male</td>\n",
       "      <td>0</td>\n",
       "      <td>No</td>\n",
       "      <td>No</td>\n",
       "      <td>2</td>\n",
       "      <td>Yes</td>\n",
       "      <td>No</td>\n",
       "      <td>DSL</td>\n",
       "      <td>Yes</td>\n",
       "      <td>...</td>\n",
       "      <td>No</td>\n",
       "      <td>No</td>\n",
       "      <td>No</td>\n",
       "      <td>No</td>\n",
       "      <td>Month-to-month</td>\n",
       "      <td>Yes</td>\n",
       "      <td>Mailed check</td>\n",
       "      <td>53.85</td>\n",
       "      <td>108.15</td>\n",
       "      <td>Yes</td>\n",
       "    </tr>\n",
       "    <tr>\n",
       "      <th>3</th>\n",
       "      <td>7795-CFOCW</td>\n",
       "      <td>Male</td>\n",
       "      <td>0</td>\n",
       "      <td>No</td>\n",
       "      <td>No</td>\n",
       "      <td>45</td>\n",
       "      <td>No</td>\n",
       "      <td>No phone service</td>\n",
       "      <td>DSL</td>\n",
       "      <td>Yes</td>\n",
       "      <td>...</td>\n",
       "      <td>Yes</td>\n",
       "      <td>Yes</td>\n",
       "      <td>No</td>\n",
       "      <td>No</td>\n",
       "      <td>One year</td>\n",
       "      <td>No</td>\n",
       "      <td>Bank transfer (automatic)</td>\n",
       "      <td>42.30</td>\n",
       "      <td>1840.75</td>\n",
       "      <td>No</td>\n",
       "    </tr>\n",
       "    <tr>\n",
       "      <th>4</th>\n",
       "      <td>9237-HQITU</td>\n",
       "      <td>Female</td>\n",
       "      <td>0</td>\n",
       "      <td>No</td>\n",
       "      <td>No</td>\n",
       "      <td>2</td>\n",
       "      <td>Yes</td>\n",
       "      <td>No</td>\n",
       "      <td>Fiber optic</td>\n",
       "      <td>No</td>\n",
       "      <td>...</td>\n",
       "      <td>No</td>\n",
       "      <td>No</td>\n",
       "      <td>No</td>\n",
       "      <td>No</td>\n",
       "      <td>Month-to-month</td>\n",
       "      <td>Yes</td>\n",
       "      <td>Electronic check</td>\n",
       "      <td>70.70</td>\n",
       "      <td>151.65</td>\n",
       "      <td>Yes</td>\n",
       "    </tr>\n",
       "  </tbody>\n",
       "</table>\n",
       "<p>5 rows × 21 columns</p>\n",
       "</div>"
      ]
     },
     "execution_count": 2,
     "metadata": {},
     "output_type": "execute_result"
    }
   ],
   "execution_count": 2
  },
  {
   "metadata": {
    "ExecuteTime": {
     "end_time": "2025-07-30T12:51:13.353743Z",
     "start_time": "2025-07-30T12:51:13.327766Z"
    }
   },
   "cell_type": "code",
   "source": [
    "print(data.info())\n",
    "print(f\"\\n\")\n",
    "print(data.isnull().sum())\n",
    "print(f\"\\n\")\n",
    "print(data.describe())"
   ],
   "id": "1fe862b65d439c0c",
   "outputs": [
    {
     "name": "stdout",
     "output_type": "stream",
     "text": [
      "<class 'pandas.core.frame.DataFrame'>\n",
      "RangeIndex: 7043 entries, 0 to 7042\n",
      "Data columns (total 21 columns):\n",
      " #   Column            Non-Null Count  Dtype  \n",
      "---  ------            --------------  -----  \n",
      " 0   customerID        7043 non-null   object \n",
      " 1   gender            7043 non-null   object \n",
      " 2   SeniorCitizen     7043 non-null   int64  \n",
      " 3   Partner           7043 non-null   object \n",
      " 4   Dependents        7043 non-null   object \n",
      " 5   tenure            7043 non-null   int64  \n",
      " 6   PhoneService      7043 non-null   object \n",
      " 7   MultipleLines     7043 non-null   object \n",
      " 8   InternetService   7043 non-null   object \n",
      " 9   OnlineSecurity    7043 non-null   object \n",
      " 10  OnlineBackup      7043 non-null   object \n",
      " 11  DeviceProtection  7043 non-null   object \n",
      " 12  TechSupport       7043 non-null   object \n",
      " 13  StreamingTV       7043 non-null   object \n",
      " 14  StreamingMovies   7043 non-null   object \n",
      " 15  Contract          7043 non-null   object \n",
      " 16  PaperlessBilling  7043 non-null   object \n",
      " 17  PaymentMethod     7043 non-null   object \n",
      " 18  MonthlyCharges    7043 non-null   float64\n",
      " 19  TotalCharges      7043 non-null   object \n",
      " 20  Churn             7043 non-null   object \n",
      "dtypes: float64(1), int64(2), object(18)\n",
      "memory usage: 1.1+ MB\n",
      "None\n",
      "\n",
      "\n",
      "customerID          0\n",
      "gender              0\n",
      "SeniorCitizen       0\n",
      "Partner             0\n",
      "Dependents          0\n",
      "tenure              0\n",
      "PhoneService        0\n",
      "MultipleLines       0\n",
      "InternetService     0\n",
      "OnlineSecurity      0\n",
      "OnlineBackup        0\n",
      "DeviceProtection    0\n",
      "TechSupport         0\n",
      "StreamingTV         0\n",
      "StreamingMovies     0\n",
      "Contract            0\n",
      "PaperlessBilling    0\n",
      "PaymentMethod       0\n",
      "MonthlyCharges      0\n",
      "TotalCharges        0\n",
      "Churn               0\n",
      "dtype: int64\n",
      "\n",
      "\n",
      "       SeniorCitizen       tenure  MonthlyCharges\n",
      "count    7043.000000  7043.000000     7043.000000\n",
      "mean        0.162147    32.371149       64.761692\n",
      "std         0.368612    24.559481       30.090047\n",
      "min         0.000000     0.000000       18.250000\n",
      "25%         0.000000     9.000000       35.500000\n",
      "50%         0.000000    29.000000       70.350000\n",
      "75%         0.000000    55.000000       89.850000\n",
      "max         1.000000    72.000000      118.750000\n"
     ]
    }
   ],
   "execution_count": 3
  },
  {
   "metadata": {
    "ExecuteTime": {
     "end_time": "2025-07-30T12:51:13.567821Z",
     "start_time": "2025-07-30T12:51:13.459087Z"
    }
   },
   "cell_type": "code",
   "source": [
    "#Visualising the data\n",
    "sns.countplot(data['Churn'])\n",
    "plt.title(\"Churn Count\")\n",
    "plt.show()"
   ],
   "id": "60c7afa8ea06b5b3",
   "outputs": [
    {
     "data": {
      "text/plain": [
       "<Figure size 640x480 with 1 Axes>"
      ],
      "image/png": "[encoded data removed]"
     },
     "metadata": {},
     "output_type": "display_data"
    }
   ],
   "execution_count": 4
  },
  {
   "metadata": {
    "ExecuteTime": {
     "end_time": "2025-07-30T12:51:13.596428Z",
     "start_time": "2025-07-30T12:51:13.588005Z"
    }
   },
   "cell_type": "code",
   "source": [
    "#Data Preprocessing\n",
    "#Clean data\n",
    "data['TotalCharges'] = pd.to_numeric(data['TotalCharges'], errors='coerce')\n",
    "data.drop(['customerID'], axis=1, inplace=True)\n"
   ],
   "id": "2e8d238309ab6fc7",
   "outputs": [],
   "execution_count": 5
  },
  {
   "metadata": {
    "ExecuteTime": {
     "end_time": "2025-07-30T12:51:13.628268Z",
     "start_time": "2025-07-30T12:51:13.610346Z"
    }
   },
   "cell_type": "code",
   "source": [
    "#Encoding categorical features\n",
    "#Encoding binary columns (Yes/No)\n",
    "# MAP ONLY IF NOT ALREADY MAPPED, RUN ONLY ONCE\n",
    "binary_cols = ['Partner', 'Dependents', 'PhoneService', 'OnlineSecurity', 'OnlineBackup', 'PaperlessBilling', 'TechSupport', 'DeviceProtection', 'StreamingTV', 'StreamingMovies', 'Churn']\n",
    "for col in binary_cols:\n",
    "    data[col] = data[col].map({'Yes': 1, 'No': 0})\n",
    "print(f\"{'Churn'} unique values after mapping: {data['Churn'].unique()}\")\n",
    "print(f\"Any NaNs? {data['Churn'].isna().sum()}\")\n",
    "\n",
    "#One-Hot Encoding columns with non-binary column types.\n",
    "data = pd.get_dummies(data, drop_first=True)\n"
   ],
   "id": "28a795303d2cfdd6",
   "outputs": [
    {
     "name": "stdout",
     "output_type": "stream",
     "text": [
      "Churn unique values after mapping: [0 1]\n",
      "Any NaNs? 0\n"
     ]
    }
   ],
   "execution_count": 6
  },
  {
   "metadata": {
    "ExecuteTime": {
     "end_time": "2025-07-30T12:51:13.658339Z",
     "start_time": "2025-07-30T12:51:13.646783Z"
    }
   },
   "cell_type": "code",
   "source": "print(data.head())",
   "id": "f329d9e71998c976",
   "outputs": [
    {
     "name": "stdout",
     "output_type": "stream",
     "text": [
      "   SeniorCitizen  Partner  Dependents  tenure  PhoneService  OnlineSecurity  \\\n",
      "0              0        1           0       1             0             0.0   \n",
      "1              0        0           0      34             1             1.0   \n",
      "2              0        0           0       2             1             1.0   \n",
      "3              0        0           0      45             0             1.0   \n",
      "4              0        0           0       2             1             0.0   \n",
      "\n",
      "   OnlineBackup  DeviceProtection  TechSupport  StreamingTV  ...  gender_Male  \\\n",
      "0           1.0               0.0          0.0          0.0  ...        False   \n",
      "1           0.0               1.0          0.0          0.0  ...         True   \n",
      "2           1.0               0.0          0.0          0.0  ...         True   \n",
      "3           0.0               1.0          1.0          0.0  ...         True   \n",
      "4           0.0               0.0          0.0          0.0  ...        False   \n",
      "\n",
      "   MultipleLines_No phone service  MultipleLines_Yes  \\\n",
      "0                            True              False   \n",
      "1                           False              False   \n",
      "2                           False              False   \n",
      "3                            True              False   \n",
      "4                           False              False   \n",
      "\n",
      "   InternetService_Fiber optic  InternetService_No  Contract_One year  \\\n",
      "0                        False               False              False   \n",
      "1                        False               False               True   \n",
      "2                        False               False              False   \n",
      "3                        False               False               True   \n",
      "4                         True               False              False   \n",
      "\n",
      "   Contract_Two year  PaymentMethod_Credit card (automatic)  \\\n",
      "0              False                                  False   \n",
      "1              False                                  False   \n",
      "2              False                                  False   \n",
      "3              False                                  False   \n",
      "4              False                                  False   \n",
      "\n",
      "   PaymentMethod_Electronic check  PaymentMethod_Mailed check  \n",
      "0                            True                       False  \n",
      "1                           False                        True  \n",
      "2                           False                        True  \n",
      "3                           False                       False  \n",
      "4                            True                       False  \n",
      "\n",
      "[5 rows x 25 columns]\n"
     ]
    }
   ],
   "execution_count": 7
  },
  {
   "metadata": {
    "ExecuteTime": {
     "end_time": "2025-07-30T12:51:13.680077Z",
     "start_time": "2025-07-30T12:51:13.673714Z"
    }
   },
   "cell_type": "code",
   "source": [
    "#declaring features and label and then train-test splitting\n",
    "X = data.drop('Churn', axis=1)\n",
    "y = data['Churn']\n",
    "\n",
    "X_train, X_test, y_train, y_test = train_test_split(X, y, test_size=0.2, random_state=42)\n"
   ],
   "id": "762da4b91b39c7a0",
   "outputs": [],
   "execution_count": 8
  },
  {
   "metadata": {
    "ExecuteTime": {
     "end_time": "2025-07-30T12:51:27.128049Z",
     "start_time": "2025-07-30T12:51:13.707452Z"
    }
   },
   "cell_type": "code",
   "source": [
    "#calculate class weights for imbalance\n",
    "weights = compute_class_weight(class_weight='balanced', classes=np.unique(y_train), y=y_train)\n",
    "weight_dict = dict(zip(np.unique(y_train), weights))\n",
    "print(\"Class Weights:\", weight_dict)\n",
    "\n",
    "#hyperparameter grid\n",
    "param_grid = {\n",
    "    'n_estimators': [100, 200],\n",
    "    'max_depth': [3, 5, 7],\n",
    "    'learning_rate': [0.01, 0.1, 0.2],\n",
    "    'subsample': [0.8, 1],\n",
    "    'colsample_bytree': [0.8, 1]\n",
    "}\n",
    "\n",
    "#initializing base XGBoost model with scale_pos_weight\n",
    "xgb = XGBClassifier(\n",
    "    eval_metric='logloss',\n",
    "    scale_pos_weight=weight_dict[0] / weight_dict[1],\n",
    "    random_state=42\n",
    ")\n",
    "\n",
    "#grid search setuo\n",
    "grid_search = GridSearchCV(estimator=xgb, param_grid=param_grid,\n",
    "                           scoring='f1', cv=5, verbose=1, n_jobs=-1)\n",
    "\n",
    "#fitting to data\n",
    "grid_search.fit(X_train, y_train)\n",
    "\n",
    "#best model\n",
    "best_model = grid_search.best_estimator_\n",
    "\n",
    "#predictions\n",
    "y_pred = best_model.predict(X_test)\n",
    "y_proba = best_model.predict_proba(X_test)[:, 1]\n",
    "\n",
    "#ROC Curve\n",
    "fpr, tpr, _ = roc_curve(y_test, y_proba)\n",
    "plt.figure(figsize=(8, 5))\n",
    "plt.plot(fpr, tpr, label=f\"AUC = {roc_auc_score(y_test, y_proba):.2f}\")\n",
    "plt.plot([0, 1], [0, 1], 'k--')\n",
    "plt.xlabel(\"False Positive Rate\")\n",
    "plt.ylabel(\"True Positive Rate\")\n",
    "plt.title(\"ROC Curve\")\n",
    "plt.legend()\n",
    "plt.grid()\n",
    "plt.show()"
   ],
   "id": "c8d77a39ca32e757",
   "outputs": [
    {
     "name": "stdout",
     "output_type": "stream",
     "text": [
      "Class Weights: {np.int64(0): np.float64(0.680763653939101), np.int64(1): np.float64(1.8830213903743316)}\n",
      "Fitting 5 folds for each of 72 candidates, totalling 360 fits\n"
     ]
    },
    {
     "data": {
      "text/plain": [
       "<Figure size 800x500 with 1 Axes>"
      ],
      "image/png": "[encoded data removed]"
     },
     "metadata": {},
     "output_type": "display_data"
    }
   ],
   "execution_count": 9
  },
  {
   "metadata": {
    "ExecuteTime": {
     "end_time": "2025-07-30T12:51:27.277430Z",
     "start_time": "2025-07-30T12:51:27.167641Z"
    }
   },
   "cell_type": "code",
   "source": [
    "#visualising using heatmap\n",
    "cm = confusion_matrix(y_test, y_pred)\n",
    "labels = ['Stayed (0)', 'Churned (1)']\n",
    "\n",
    "print(\"Classification Report\")\n",
    "print(classification_report(y_test, y_pred))\n",
    "print(\"Accuracy:\", accuracy_score(y_test, y_pred))\n",
    "print(\"Confusion Matrix: \", confusion_matrix(y_test, y_pred))\n",
    "print(f\"ROC-AUC Score: {roc_auc_score(y_test, y_proba):.4f}\")\n",
    "\n",
    "plt.figure(figsize=(6, 5))\n",
    "sns.heatmap(cm, annot=True, fmt='d', cmap='Blues', xticklabels=labels, yticklabels=labels)\n",
    "plt.xlabel('Predicted')\n",
    "plt.ylabel('Actual')\n",
    "plt.title('Confusion Matrix: Churn Prediction')\n",
    "plt.tight_layout()\n",
    "plt.show()"
   ],
   "id": "55adf46d52a91717",
   "outputs": [
    {
     "name": "stdout",
     "output_type": "stream",
     "text": [
      "Classification Report\n",
      "              precision    recall  f1-score   support\n",
      "\n",
      "           0       0.81      0.94      0.87      1036\n",
      "           1       0.70      0.39      0.50       373\n",
      "\n",
      "    accuracy                           0.79      1409\n",
      "   macro avg       0.75      0.67      0.69      1409\n",
      "weighted avg       0.78      0.79      0.77      1409\n",
      "\n",
      "Accuracy: 0.794180269694819\n",
      "Confusion Matrix:  [[973  63]\n",
      " [227 146]]\n",
      "ROC-AUC Score: 0.8323\n"
     ]
    },
    {
     "data": {
      "text/plain": [
       "<Figure size 600x500 with 2 Axes>"
      ],
      "image/png": "[encoded data removed]"
     },
     "metadata": {},
     "output_type": "display_data"
    }
   ],
   "execution_count": 10
  },
  {
   "metadata": {
    "ExecuteTime": {
     "end_time": "2025-07-30T12:51:27.429946Z",
     "start_time": "2025-07-30T12:51:27.314319Z"
    }
   },
   "cell_type": "code",
   "source": [
    "#using barplot\n",
    "# DataFrame for bar plot\n",
    "results_df = pd.DataFrame({'Actual': y_test, 'Predicted': y_pred})\n",
    "\n",
    "# Count combinations\n",
    "counts = results_df.groupby(['Actual', 'Predicted']).size().unstack().fillna(0)\n",
    "\n",
    "# Bar plot\n",
    "counts.plot(kind='bar', stacked=True, colormap='Set2', figsize=(7, 5))\n",
    "plt.title('Actual vs Predicted Churn Distribution')\n",
    "plt.xlabel('Actual Churn')\n",
    "plt.ylabel('Number of Customers')\n",
    "plt.xticks(rotation=0)\n",
    "plt.legend(['Predicted: Stay (0)', 'Predicted: Churn (1)'])\n",
    "plt.tight_layout()\n",
    "plt.show()\n"
   ],
   "id": "c1844cd0f72d2171",
   "outputs": [
    {
     "data": {
      "text/plain": [
       "<Figure size 700x500 with 1 Axes>"
      ],
      "image/png": "[encoded data removed]"
     },
     "metadata": {},
     "output_type": "display_data"
    }
   ],
   "execution_count": 11
  }
 ],
 "metadata": {
  "kernelspec": {
   "display_name": "Python 3",
   "language": "python",
   "name": "python3"
  },
  "language_info": {
   "codemirror_mode": {
    "name": "ipython",
    "version": 2
   },
   "file_extension": ".py",
   "mimetype": "text/x-python",
   "name": "python",
   "nbconvert_exporter": "python",
   "pygments_lexer": "ipython2",
   "version": "2.7.6"
  }
 },
 "nbformat": 4,
 "nbformat_minor": 5
}
